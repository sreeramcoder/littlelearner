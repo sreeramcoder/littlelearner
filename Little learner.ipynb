{
 "cells": [
  {
   "cell_type": "code",
   "execution_count": 2,
   "id": "82a0ac95",
   "metadata": {},
   "outputs": [],
   "source": [
    "(require malt)"
   ]
  },
  {
   "cell_type": "markdown",
   "id": "0eb544f7",
   "metadata": {},
   "source": [
    "we determine values for theta0 and theta for a known x coordinate.                                                 \n",
    "this is the reason why we first take x as input\n",
    "since theta is used to calculate y for a given x, it is called as a 'parameter'      "
   ]
  },
  {
   "cell_type": "code",
   "execution_count": 10,
   "id": "10fe015a",
   "metadata": {},
   "outputs": [],
   "source": [
    "(define line                                                                                                                                                               \n",
    "  (lambda (x)                                                                                                                                                              \n",
    "    (lambda (theta)                                                                                                                                                        \n",
    "      (let ((theta0 (first theta))                                                                                                                                         \n",
    "            (theta1 (second theta)))                                                                                                                                       \n",
    "        (+ theta1 (* theta0 x))))))        "
   ]
  },
  {
   "cell_type": "code",
   "execution_count": 17,
   "id": "8c18351b",
   "metadata": {},
   "outputs": [
    {
     "name": "stderr",
     "output_type": "stream",
     "text": [
      "first: undefined;\n",
      " cannot reference an identifier before its definition\n",
      "  in module: top-level\n",
      "  context...:\n",
      "   body of top-level\n"
     ]
    }
   ],
   "source": [
    "(first '(1 2 3))"
   ]
  }
 ],
 "metadata": {
  "kernelspec": {
   "display_name": "Racket",
   "language": "racket",
   "name": "racket"
  },
  "language_info": {
   "codemirror_mode": "scheme",
   "file_extension": ".rkt",
   "mimetype": "text/x-racket",
   "name": "Racket",
   "pygments_lexer": "racket",
   "version": "8.3"
  }
 },
 "nbformat": 4,
 "nbformat_minor": 5
}
